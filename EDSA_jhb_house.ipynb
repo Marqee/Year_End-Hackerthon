{
 "cells": [
  {
   "cell_type": "code",
   "execution_count": 1,
   "metadata": {},
   "outputs": [],
   "source": [
    "#Dependencies\n",
    "import numpy as np, pandas as pd\n",
    "import seaborn as sns\n",
    "import matplotlib.pyplot as plt\n",
    "import re\n",
    "%matplotlib inline\n",
    "import warnings"
   ]
  },
  {
   "cell_type": "markdown",
   "metadata": {},
   "source": [
    "Read dataset."
   ]
  },
  {
   "cell_type": "code",
   "execution_count": 2,
   "metadata": {},
   "outputs": [],
   "source": [
    "train = pd.read_csv('house_prices_train.csv')\n",
    "test = pd.read_csv('house_prices_test.csv')\n",
    "sample = pd.read_csv('house_prices_sample_solution.csv')"
   ]
  },
  {
   "cell_type": "code",
   "execution_count": 3,
   "metadata": {},
   "outputs": [
    {
     "data": {
      "text/html": [
       "<div>\n",
       "<style scoped>\n",
       "    .dataframe tbody tr th:only-of-type {\n",
       "        vertical-align: middle;\n",
       "    }\n",
       "\n",
       "    .dataframe tbody tr th {\n",
       "        vertical-align: top;\n",
       "    }\n",
       "\n",
       "    .dataframe thead th {\n",
       "        text-align: right;\n",
       "    }\n",
       "</style>\n",
       "<table border=\"1\" class=\"dataframe\">\n",
       "  <thead>\n",
       "    <tr style=\"text-align: right;\">\n",
       "      <th></th>\n",
       "      <th>ID</th>\n",
       "      <th>Bathrooms</th>\n",
       "      <th>Bedrooms</th>\n",
       "      <th>Erf Size</th>\n",
       "      <th>Garages</th>\n",
       "      <th>Listing Date</th>\n",
       "      <th>Price</th>\n",
       "      <th>Type of Property</th>\n",
       "      <th>Location</th>\n",
       "    </tr>\n",
       "  </thead>\n",
       "  <tbody>\n",
       "    <tr>\n",
       "      <td>0</td>\n",
       "      <td>1003</td>\n",
       "      <td>4.0</td>\n",
       "      <td>4.0</td>\n",
       "      <td>NaN</td>\n",
       "      <td>2.0</td>\n",
       "      <td>2019-10-28</td>\n",
       "      <td>4299000.0</td>\n",
       "      <td>House</td>\n",
       "      <td>lat: 51.5073509,long: -0.1277583</td>\n",
       "    </tr>\n",
       "    <tr>\n",
       "      <td>1</td>\n",
       "      <td>1011</td>\n",
       "      <td>2.0</td>\n",
       "      <td>3.0</td>\n",
       "      <td>1 733 m²</td>\n",
       "      <td>2.0</td>\n",
       "      <td>2019-06-05</td>\n",
       "      <td>2800000.0</td>\n",
       "      <td>House</td>\n",
       "      <td>lat: 51.5073509,long: -0.1277583</td>\n",
       "    </tr>\n",
       "    <tr>\n",
       "      <td>2</td>\n",
       "      <td>1016</td>\n",
       "      <td>2.0</td>\n",
       "      <td>3.0</td>\n",
       "      <td>987 m²</td>\n",
       "      <td>1.0</td>\n",
       "      <td>2019-10-31</td>\n",
       "      <td>980000.0</td>\n",
       "      <td>House</td>\n",
       "      <td>lat: 51.5073509,long: -0.1277583</td>\n",
       "    </tr>\n",
       "    <tr>\n",
       "      <td>3</td>\n",
       "      <td>1019</td>\n",
       "      <td>2.0</td>\n",
       "      <td>3.0</td>\n",
       "      <td>1 539 m²</td>\n",
       "      <td>2.0</td>\n",
       "      <td>2019-10-14</td>\n",
       "      <td>1795000.0</td>\n",
       "      <td>House</td>\n",
       "      <td>lat: 51.5073509,long: -0.1277583</td>\n",
       "    </tr>\n",
       "    <tr>\n",
       "      <td>4</td>\n",
       "      <td>1029</td>\n",
       "      <td>2.0</td>\n",
       "      <td>3.0</td>\n",
       "      <td>70 m²</td>\n",
       "      <td>NaN</td>\n",
       "      <td>2019-10-02</td>\n",
       "      <td>837780.0</td>\n",
       "      <td>House</td>\n",
       "      <td>lat: 51.5073509,long: -0.1277583</td>\n",
       "    </tr>\n",
       "  </tbody>\n",
       "</table>\n",
       "</div>"
      ],
      "text/plain": [
       "     ID  Bathrooms  Bedrooms  Erf Size  Garages Listing Date      Price  \\\n",
       "0  1003        4.0       4.0       NaN      2.0   2019-10-28  4299000.0   \n",
       "1  1011        2.0       3.0  1 733 m²      2.0   2019-06-05  2800000.0   \n",
       "2  1016        2.0       3.0    987 m²      1.0   2019-10-31   980000.0   \n",
       "3  1019        2.0       3.0  1 539 m²      2.0   2019-10-14  1795000.0   \n",
       "4  1029        2.0       3.0     70 m²      NaN   2019-10-02   837780.0   \n",
       "\n",
       "  Type of Property                          Location  \n",
       "0            House  lat: 51.5073509,long: -0.1277583  \n",
       "1            House  lat: 51.5073509,long: -0.1277583  \n",
       "2            House  lat: 51.5073509,long: -0.1277583  \n",
       "3            House  lat: 51.5073509,long: -0.1277583  \n",
       "4            House  lat: 51.5073509,long: -0.1277583  "
      ]
     },
     "execution_count": 3,
     "metadata": {},
     "output_type": "execute_result"
    }
   ],
   "source": [
    "train.head()"
   ]
  },
  {
   "cell_type": "code",
   "execution_count": 4,
   "metadata": {},
   "outputs": [
    {
     "data": {
      "text/plain": [
       "((150, 8), (738, 9))"
      ]
     },
     "execution_count": 4,
     "metadata": {},
     "output_type": "execute_result"
    }
   ],
   "source": [
    "test.shape, train.shape"
   ]
  },
  {
   "cell_type": "code",
   "execution_count": 5,
   "metadata": {},
   "outputs": [
    {
     "name": "stdout",
     "output_type": "stream",
     "text": [
      "<class 'pandas.core.frame.DataFrame'>\n",
      "RangeIndex: 738 entries, 0 to 737\n",
      "Data columns (total 9 columns):\n",
      "ID                  738 non-null int64\n",
      "Bathrooms           636 non-null float64\n",
      "Bedrooms            717 non-null float64\n",
      "Erf Size            577 non-null object\n",
      "Garages             450 non-null float64\n",
      "Listing Date        738 non-null object\n",
      "Price               736 non-null float64\n",
      "Type of Property    738 non-null object\n",
      "Location            738 non-null object\n",
      "dtypes: float64(4), int64(1), object(4)\n",
      "memory usage: 52.0+ KB\n"
     ]
    }
   ],
   "source": [
    "train.info()"
   ]
  },
  {
   "cell_type": "code",
   "execution_count": 6,
   "metadata": {},
   "outputs": [
    {
     "data": {
      "text/html": [
       "<div>\n",
       "<style scoped>\n",
       "    .dataframe tbody tr th:only-of-type {\n",
       "        vertical-align: middle;\n",
       "    }\n",
       "\n",
       "    .dataframe tbody tr th {\n",
       "        vertical-align: top;\n",
       "    }\n",
       "\n",
       "    .dataframe thead th {\n",
       "        text-align: right;\n",
       "    }\n",
       "</style>\n",
       "<table border=\"1\" class=\"dataframe\">\n",
       "  <thead>\n",
       "    <tr style=\"text-align: right;\">\n",
       "      <th></th>\n",
       "      <th>ID</th>\n",
       "      <th>Bathrooms</th>\n",
       "      <th>Bedrooms</th>\n",
       "      <th>Garages</th>\n",
       "      <th>Price</th>\n",
       "    </tr>\n",
       "  </thead>\n",
       "  <tbody>\n",
       "    <tr>\n",
       "      <td>count</td>\n",
       "      <td>738.000000</td>\n",
       "      <td>636.000000</td>\n",
       "      <td>717.000000</td>\n",
       "      <td>450.000000</td>\n",
       "      <td>7.360000e+02</td>\n",
       "    </tr>\n",
       "    <tr>\n",
       "      <td>mean</td>\n",
       "      <td>2478.681572</td>\n",
       "      <td>2.099057</td>\n",
       "      <td>3.189679</td>\n",
       "      <td>2.086667</td>\n",
       "      <td>2.031752e+06</td>\n",
       "    </tr>\n",
       "    <tr>\n",
       "      <td>std</td>\n",
       "      <td>869.557030</td>\n",
       "      <td>0.990315</td>\n",
       "      <td>1.219146</td>\n",
       "      <td>0.966729</td>\n",
       "      <td>2.206027e+06</td>\n",
       "    </tr>\n",
       "    <tr>\n",
       "      <td>min</td>\n",
       "      <td>1.000000</td>\n",
       "      <td>1.000000</td>\n",
       "      <td>1.000000</td>\n",
       "      <td>1.000000</td>\n",
       "      <td>9.000000e+04</td>\n",
       "    </tr>\n",
       "    <tr>\n",
       "      <td>25%</td>\n",
       "      <td>1734.750000</td>\n",
       "      <td>2.000000</td>\n",
       "      <td>2.000000</td>\n",
       "      <td>2.000000</td>\n",
       "      <td>8.800000e+05</td>\n",
       "    </tr>\n",
       "    <tr>\n",
       "      <td>50%</td>\n",
       "      <td>2465.500000</td>\n",
       "      <td>2.000000</td>\n",
       "      <td>3.000000</td>\n",
       "      <td>2.000000</td>\n",
       "      <td>1.400000e+06</td>\n",
       "    </tr>\n",
       "    <tr>\n",
       "      <td>75%</td>\n",
       "      <td>3215.750000</td>\n",
       "      <td>2.000000</td>\n",
       "      <td>4.000000</td>\n",
       "      <td>2.000000</td>\n",
       "      <td>2.346250e+06</td>\n",
       "    </tr>\n",
       "    <tr>\n",
       "      <td>max</td>\n",
       "      <td>3999.000000</td>\n",
       "      <td>8.000000</td>\n",
       "      <td>16.000000</td>\n",
       "      <td>8.000000</td>\n",
       "      <td>3.000000e+07</td>\n",
       "    </tr>\n",
       "  </tbody>\n",
       "</table>\n",
       "</div>"
      ],
      "text/plain": [
       "                ID   Bathrooms    Bedrooms     Garages         Price\n",
       "count   738.000000  636.000000  717.000000  450.000000  7.360000e+02\n",
       "mean   2478.681572    2.099057    3.189679    2.086667  2.031752e+06\n",
       "std     869.557030    0.990315    1.219146    0.966729  2.206027e+06\n",
       "min       1.000000    1.000000    1.000000    1.000000  9.000000e+04\n",
       "25%    1734.750000    2.000000    2.000000    2.000000  8.800000e+05\n",
       "50%    2465.500000    2.000000    3.000000    2.000000  1.400000e+06\n",
       "75%    3215.750000    2.000000    4.000000    2.000000  2.346250e+06\n",
       "max    3999.000000    8.000000   16.000000    8.000000  3.000000e+07"
      ]
     },
     "execution_count": 6,
     "metadata": {},
     "output_type": "execute_result"
    }
   ],
   "source": [
    "train.describe()"
   ]
  },
  {
   "cell_type": "markdown",
   "metadata": {},
   "source": [
    "Append Test set to Train set for preprocessing."
   ]
  },
  {
   "cell_type": "code",
   "execution_count": 7,
   "metadata": {},
   "outputs": [
    {
     "name": "stderr",
     "output_type": "stream",
     "text": [
      "C:\\Users\\Marcus\\Anaconda3\\lib\\site-packages\\pandas\\core\\frame.py:7123: FutureWarning: Sorting because non-concatenation axis is not aligned. A future version\n",
      "of pandas will change to not sort by default.\n",
      "\n",
      "To accept the future behavior, pass 'sort=False'.\n",
      "\n",
      "To retain the current behavior and silence the warning, pass 'sort=True'.\n",
      "\n",
      "  sort=sort,\n"
     ]
    }
   ],
   "source": [
    "result = train.append([test],ignore_index=True)"
   ]
  },
  {
   "cell_type": "markdown",
   "metadata": {},
   "source": [
    "# Preprocessing"
   ]
  },
  {
   "cell_type": "code",
   "execution_count": 8,
   "metadata": {},
   "outputs": [
    {
     "data": {
      "text/plain": [
       "(888, 9)"
      ]
     },
     "execution_count": 8,
     "metadata": {},
     "output_type": "execute_result"
    }
   ],
   "source": [
    "result.shape"
   ]
  },
  {
   "cell_type": "code",
   "execution_count": 9,
   "metadata": {},
   "outputs": [
    {
     "data": {
      "text/html": [
       "<div>\n",
       "<style scoped>\n",
       "    .dataframe tbody tr th:only-of-type {\n",
       "        vertical-align: middle;\n",
       "    }\n",
       "\n",
       "    .dataframe tbody tr th {\n",
       "        vertical-align: top;\n",
       "    }\n",
       "\n",
       "    .dataframe thead th {\n",
       "        text-align: right;\n",
       "    }\n",
       "</style>\n",
       "<table border=\"1\" class=\"dataframe\">\n",
       "  <thead>\n",
       "    <tr style=\"text-align: right;\">\n",
       "      <th></th>\n",
       "      <th>Bathrooms</th>\n",
       "      <th>Bedrooms</th>\n",
       "      <th>Erf Size</th>\n",
       "      <th>Garages</th>\n",
       "      <th>ID</th>\n",
       "      <th>Listing Date</th>\n",
       "      <th>Location</th>\n",
       "      <th>Price</th>\n",
       "      <th>Type of Property</th>\n",
       "    </tr>\n",
       "  </thead>\n",
       "  <tbody>\n",
       "    <tr>\n",
       "      <td>883</td>\n",
       "      <td>1.0</td>\n",
       "      <td>2.0</td>\n",
       "      <td>2 000 m²</td>\n",
       "      <td>NaN</td>\n",
       "      <td>4572</td>\n",
       "      <td>2019-07-02</td>\n",
       "      <td>lat: 51.5073509,long: -0.1277583</td>\n",
       "      <td>NaN</td>\n",
       "      <td>House</td>\n",
       "    </tr>\n",
       "    <tr>\n",
       "      <td>884</td>\n",
       "      <td>2.0</td>\n",
       "      <td>4.0</td>\n",
       "      <td>NaN</td>\n",
       "      <td>2.0</td>\n",
       "      <td>4575</td>\n",
       "      <td>2017-10-17</td>\n",
       "      <td>lat: 51.5073509,long: -0.1277583</td>\n",
       "      <td>NaN</td>\n",
       "      <td>House</td>\n",
       "    </tr>\n",
       "    <tr>\n",
       "      <td>885</td>\n",
       "      <td>1.0</td>\n",
       "      <td>2.0</td>\n",
       "      <td>NaN</td>\n",
       "      <td>NaN</td>\n",
       "      <td>4580</td>\n",
       "      <td>2017-11-29</td>\n",
       "      <td>lat: 51.5073509,long: -0.1277583</td>\n",
       "      <td>NaN</td>\n",
       "      <td>Townhouse</td>\n",
       "    </tr>\n",
       "    <tr>\n",
       "      <td>886</td>\n",
       "      <td>2.0</td>\n",
       "      <td>3.0</td>\n",
       "      <td>1 016 m²</td>\n",
       "      <td>2.0</td>\n",
       "      <td>4592</td>\n",
       "      <td>2019-04-25</td>\n",
       "      <td>lat: 51.5073509,long: -0.1277583</td>\n",
       "      <td>NaN</td>\n",
       "      <td>House</td>\n",
       "    </tr>\n",
       "    <tr>\n",
       "      <td>887</td>\n",
       "      <td>2.0</td>\n",
       "      <td>3.0</td>\n",
       "      <td>995 m²</td>\n",
       "      <td>2.0</td>\n",
       "      <td>4595</td>\n",
       "      <td>2018-04-23</td>\n",
       "      <td>lat: 51.5073509,long: -0.1277583</td>\n",
       "      <td>NaN</td>\n",
       "      <td>House</td>\n",
       "    </tr>\n",
       "  </tbody>\n",
       "</table>\n",
       "</div>"
      ],
      "text/plain": [
       "     Bathrooms  Bedrooms  Erf Size  Garages    ID Listing Date  \\\n",
       "883        1.0       2.0  2 000 m²      NaN  4572   2019-07-02   \n",
       "884        2.0       4.0       NaN      2.0  4575   2017-10-17   \n",
       "885        1.0       2.0       NaN      NaN  4580   2017-11-29   \n",
       "886        2.0       3.0  1 016 m²      2.0  4592   2019-04-25   \n",
       "887        2.0       3.0    995 m²      2.0  4595   2018-04-23   \n",
       "\n",
       "                             Location  Price Type of Property  \n",
       "883  lat: 51.5073509,long: -0.1277583    NaN            House  \n",
       "884  lat: 51.5073509,long: -0.1277583    NaN            House  \n",
       "885  lat: 51.5073509,long: -0.1277583    NaN        Townhouse  \n",
       "886  lat: 51.5073509,long: -0.1277583    NaN            House  \n",
       "887  lat: 51.5073509,long: -0.1277583    NaN            House  "
      ]
     },
     "execution_count": 9,
     "metadata": {},
     "output_type": "execute_result"
    }
   ],
   "source": [
    "result.tail()"
   ]
  },
  {
   "cell_type": "markdown",
   "metadata": {},
   "source": [
    "Change data types to correct format for EDA purposes."
   ]
  },
  {
   "cell_type": "code",
   "execution_count": 10,
   "metadata": {},
   "outputs": [],
   "source": [
    "result['Listing Date']=pd.to_datetime(result['Listing Date'])\n",
    "result['year_date']=result['Listing Date'].dt.year\n",
    "result['Month_date']=result['Listing Date'].dt.month\n",
    "result['ID']=result['ID'].astype(str)"
   ]
  },
  {
   "cell_type": "markdown",
   "metadata": {},
   "source": [
    "Drop 'Listing Date' as we have created 2 columns 'year_date' and 'Month_date' as the regression algorithm would not be able to read dates."
   ]
  },
  {
   "cell_type": "code",
   "execution_count": 11,
   "metadata": {},
   "outputs": [],
   "source": [
    "result.drop('Listing Date',inplace=True,axis=1)"
   ]
  },
  {
   "cell_type": "markdown",
   "metadata": {},
   "source": [
    "Extract digits from input in ERF Size meter square."
   ]
  },
  {
   "cell_type": "code",
   "execution_count": 12,
   "metadata": {},
   "outputs": [],
   "source": [
    "result['Erf Size'] = result['Erf Size'].astype(str)\n",
    "result['Erf Size']=result['Erf Size'].apply(lambda x : [int(s) for s in x.split() if s.isdigit()])"
   ]
  },
  {
   "cell_type": "code",
   "execution_count": 13,
   "metadata": {},
   "outputs": [],
   "source": [
    "#Remove square brackets\n",
    "def listToStringWithoutBrackets(list1):\n",
    "    return str(list1).replace('[','').replace(']','')\n",
    "result['Erf Size'] =result['Erf Size'].apply(listToStringWithoutBrackets)"
   ]
  },
  {
   "cell_type": "code",
   "execution_count": 14,
   "metadata": {},
   "outputs": [],
   "source": [
    "#Remove commas from input\n",
    "def removecoma(list1):\n",
    "    return str(list1).replace(',','')\n",
    "result['Erf Size'] =result['Erf Size'].apply(removecoma)"
   ]
  },
  {
   "cell_type": "code",
   "execution_count": 15,
   "metadata": {},
   "outputs": [],
   "source": [
    "#Remove spaces from input\n",
    "def spces(list1):\n",
    "    return str(list1).replace(\" \", \"\")\n",
    "result['Erf Size'] =result['Erf Size'].apply(spces)"
   ]
  },
  {
   "cell_type": "code",
   "execution_count": 16,
   "metadata": {},
   "outputs": [],
   "source": [
    "#Fill blank spaces with Nan values\n",
    "result['Erf Size']=result['Erf Size'].replace(r'', np.NaN)"
   ]
  },
  {
   "cell_type": "code",
   "execution_count": 17,
   "metadata": {},
   "outputs": [],
   "source": [
    "#Change data type to float\n",
    "result['Erf Size']=result['Erf Size'].astype(float)"
   ]
  },
  {
   "cell_type": "code",
   "execution_count": 18,
   "metadata": {},
   "outputs": [],
   "source": [
    "result['Erf Size'] = pd.to_numeric(result['Erf Size'], errors='coerce')"
   ]
  },
  {
   "cell_type": "code",
   "execution_count": 19,
   "metadata": {},
   "outputs": [
    {
     "data": {
      "text/plain": [
       "1"
      ]
     },
     "execution_count": 19,
     "metadata": {},
     "output_type": "execute_result"
    }
   ],
   "source": [
    "result['Location'].nunique()"
   ]
  },
  {
   "cell_type": "code",
   "execution_count": 20,
   "metadata": {},
   "outputs": [],
   "source": [
    "#Drop Location as there is only one value and wont affect the prediction\n",
    "result=result.drop('Location',axis=1)"
   ]
  },
  {
   "cell_type": "markdown",
   "metadata": {},
   "source": [
    "Split dataset into train and test set."
   ]
  },
  {
   "cell_type": "code",
   "execution_count": 21,
   "metadata": {},
   "outputs": [
    {
     "data": {
      "text/plain": [
       "((738, 9), (150, 9))"
      ]
     },
     "execution_count": 21,
     "metadata": {},
     "output_type": "execute_result"
    }
   ],
   "source": [
    "result_train=result[:train.shape[0]]\n",
    "result_test=result[train.shape[0]:]\n",
    "result_train.shape, result_test.shape"
   ]
  },
  {
   "cell_type": "code",
   "execution_count": 22,
   "metadata": {},
   "outputs": [
    {
     "data": {
      "text/html": [
       "<div>\n",
       "<style scoped>\n",
       "    .dataframe tbody tr th:only-of-type {\n",
       "        vertical-align: middle;\n",
       "    }\n",
       "\n",
       "    .dataframe tbody tr th {\n",
       "        vertical-align: top;\n",
       "    }\n",
       "\n",
       "    .dataframe thead th {\n",
       "        text-align: right;\n",
       "    }\n",
       "</style>\n",
       "<table border=\"1\" class=\"dataframe\">\n",
       "  <thead>\n",
       "    <tr style=\"text-align: right;\">\n",
       "      <th></th>\n",
       "      <th>Bathrooms</th>\n",
       "      <th>Bedrooms</th>\n",
       "      <th>Erf Size</th>\n",
       "      <th>Garages</th>\n",
       "      <th>ID</th>\n",
       "      <th>Price</th>\n",
       "      <th>Type of Property</th>\n",
       "      <th>year_date</th>\n",
       "      <th>Month_date</th>\n",
       "    </tr>\n",
       "  </thead>\n",
       "  <tbody>\n",
       "    <tr>\n",
       "      <td>738</td>\n",
       "      <td>2.0</td>\n",
       "      <td>2.0</td>\n",
       "      <td>70.0</td>\n",
       "      <td>NaN</td>\n",
       "      <td>4001</td>\n",
       "      <td>NaN</td>\n",
       "      <td>Apartment / Flat</td>\n",
       "      <td>2019</td>\n",
       "      <td>6</td>\n",
       "    </tr>\n",
       "    <tr>\n",
       "      <td>739</td>\n",
       "      <td>1.0</td>\n",
       "      <td>2.0</td>\n",
       "      <td>91.0</td>\n",
       "      <td>NaN</td>\n",
       "      <td>4002</td>\n",
       "      <td>NaN</td>\n",
       "      <td>Townhouse</td>\n",
       "      <td>2019</td>\n",
       "      <td>2</td>\n",
       "    </tr>\n",
       "    <tr>\n",
       "      <td>740</td>\n",
       "      <td>2.0</td>\n",
       "      <td>2.0</td>\n",
       "      <td>72.0</td>\n",
       "      <td>NaN</td>\n",
       "      <td>4003</td>\n",
       "      <td>NaN</td>\n",
       "      <td>Townhouse</td>\n",
       "      <td>2019</td>\n",
       "      <td>5</td>\n",
       "    </tr>\n",
       "    <tr>\n",
       "      <td>741</td>\n",
       "      <td>4.0</td>\n",
       "      <td>4.0</td>\n",
       "      <td>265.0</td>\n",
       "      <td>2.0</td>\n",
       "      <td>4007</td>\n",
       "      <td>NaN</td>\n",
       "      <td>House</td>\n",
       "      <td>2019</td>\n",
       "      <td>2</td>\n",
       "    </tr>\n",
       "    <tr>\n",
       "      <td>742</td>\n",
       "      <td>2.0</td>\n",
       "      <td>3.0</td>\n",
       "      <td>213.0</td>\n",
       "      <td>2.0</td>\n",
       "      <td>4016</td>\n",
       "      <td>NaN</td>\n",
       "      <td>Townhouse</td>\n",
       "      <td>2018</td>\n",
       "      <td>8</td>\n",
       "    </tr>\n",
       "  </tbody>\n",
       "</table>\n",
       "</div>"
      ],
      "text/plain": [
       "     Bathrooms  Bedrooms  Erf Size  Garages    ID  Price  Type of Property  \\\n",
       "738        2.0       2.0      70.0      NaN  4001    NaN  Apartment / Flat   \n",
       "739        1.0       2.0      91.0      NaN  4002    NaN         Townhouse   \n",
       "740        2.0       2.0      72.0      NaN  4003    NaN         Townhouse   \n",
       "741        4.0       4.0     265.0      2.0  4007    NaN             House   \n",
       "742        2.0       3.0     213.0      2.0  4016    NaN         Townhouse   \n",
       "\n",
       "     year_date  Month_date  \n",
       "738       2019           6  \n",
       "739       2019           2  \n",
       "740       2019           5  \n",
       "741       2019           2  \n",
       "742       2018           8  "
      ]
     },
     "execution_count": 22,
     "metadata": {},
     "output_type": "execute_result"
    }
   ],
   "source": [
    "result_test.head()"
   ]
  },
  {
   "cell_type": "code",
   "execution_count": 23,
   "metadata": {},
   "outputs": [
    {
     "name": "stdout",
     "output_type": "stream",
     "text": [
      "30000000.0\n"
     ]
    },
    {
     "data": {
      "image/png": "[encoded data removed]",
      "text/plain": [
       "<Figure size 432x288 with 1 Axes>"
      ]
     },
     "metadata": {
      "needs_background": "light"
     },
     "output_type": "display_data"
    }
   ],
   "source": [
    "sns.boxplot(result_train['Price'])\n",
    "print(result_train['Price'].max())"
   ]
  },
  {
   "cell_type": "code",
   "execution_count": null,
   "metadata": {},
   "outputs": [],
   "source": []
  },
  {
   "cell_type": "code",
   "execution_count": 24,
   "metadata": {},
   "outputs": [
    {
     "name": "stderr",
     "output_type": "stream",
     "text": [
      "C:\\Users\\Marcus\\Anaconda3\\lib\\site-packages\\pandas\\core\\frame.py:4102: SettingWithCopyWarning: \n",
      "A value is trying to be set on a copy of a slice from a DataFrame\n",
      "\n",
      "See the caveats in the documentation: http://pandas.pydata.org/pandas-docs/stable/user_guide/indexing.html#returning-a-view-versus-a-copy\n",
      "  errors=errors,\n"
     ]
    }
   ],
   "source": [
    "#Remove outliers as the model would be bais to the outliers\n",
    "i=result_train[result_train['Price'] == 30000000.0].index\n",
    "result_train.drop(i,inplace=True)"
   ]
  },
  {
   "cell_type": "code",
   "execution_count": 25,
   "metadata": {},
   "outputs": [
    {
     "data": {
      "text/plain": [
       "18500000.0"
      ]
     },
     "execution_count": 25,
     "metadata": {},
     "output_type": "execute_result"
    }
   ],
   "source": [
    "result_train.Price.max()"
   ]
  },
  {
   "cell_type": "code",
   "execution_count": 26,
   "metadata": {},
   "outputs": [
    {
     "data": {
      "text/html": [
       "<div>\n",
       "<style scoped>\n",
       "    .dataframe tbody tr th:only-of-type {\n",
       "        vertical-align: middle;\n",
       "    }\n",
       "\n",
       "    .dataframe tbody tr th {\n",
       "        vertical-align: top;\n",
       "    }\n",
       "\n",
       "    .dataframe thead th {\n",
       "        text-align: right;\n",
       "    }\n",
       "</style>\n",
       "<table border=\"1\" class=\"dataframe\">\n",
       "  <thead>\n",
       "    <tr style=\"text-align: right;\">\n",
       "      <th></th>\n",
       "      <th>Bathrooms</th>\n",
       "      <th>Bedrooms</th>\n",
       "      <th>Erf Size</th>\n",
       "      <th>Garages</th>\n",
       "      <th>ID</th>\n",
       "      <th>Price</th>\n",
       "      <th>Type of Property</th>\n",
       "      <th>year_date</th>\n",
       "      <th>Month_date</th>\n",
       "    </tr>\n",
       "  </thead>\n",
       "  <tbody>\n",
       "    <tr>\n",
       "      <td>0</td>\n",
       "      <td>4.0</td>\n",
       "      <td>4.0</td>\n",
       "      <td>NaN</td>\n",
       "      <td>2.0</td>\n",
       "      <td>1003</td>\n",
       "      <td>4299000.0</td>\n",
       "      <td>House</td>\n",
       "      <td>2019</td>\n",
       "      <td>10</td>\n",
       "    </tr>\n",
       "    <tr>\n",
       "      <td>1</td>\n",
       "      <td>2.0</td>\n",
       "      <td>3.0</td>\n",
       "      <td>1733.0</td>\n",
       "      <td>2.0</td>\n",
       "      <td>1011</td>\n",
       "      <td>2800000.0</td>\n",
       "      <td>House</td>\n",
       "      <td>2019</td>\n",
       "      <td>6</td>\n",
       "    </tr>\n",
       "    <tr>\n",
       "      <td>2</td>\n",
       "      <td>2.0</td>\n",
       "      <td>3.0</td>\n",
       "      <td>987.0</td>\n",
       "      <td>1.0</td>\n",
       "      <td>1016</td>\n",
       "      <td>980000.0</td>\n",
       "      <td>House</td>\n",
       "      <td>2019</td>\n",
       "      <td>10</td>\n",
       "    </tr>\n",
       "    <tr>\n",
       "      <td>3</td>\n",
       "      <td>2.0</td>\n",
       "      <td>3.0</td>\n",
       "      <td>1539.0</td>\n",
       "      <td>2.0</td>\n",
       "      <td>1019</td>\n",
       "      <td>1795000.0</td>\n",
       "      <td>House</td>\n",
       "      <td>2019</td>\n",
       "      <td>10</td>\n",
       "    </tr>\n",
       "    <tr>\n",
       "      <td>4</td>\n",
       "      <td>2.0</td>\n",
       "      <td>3.0</td>\n",
       "      <td>70.0</td>\n",
       "      <td>NaN</td>\n",
       "      <td>1029</td>\n",
       "      <td>837780.0</td>\n",
       "      <td>House</td>\n",
       "      <td>2019</td>\n",
       "      <td>10</td>\n",
       "    </tr>\n",
       "  </tbody>\n",
       "</table>\n",
       "</div>"
      ],
      "text/plain": [
       "   Bathrooms  Bedrooms  Erf Size  Garages    ID      Price Type of Property  \\\n",
       "0        4.0       4.0       NaN      2.0  1003  4299000.0            House   \n",
       "1        2.0       3.0    1733.0      2.0  1011  2800000.0            House   \n",
       "2        2.0       3.0     987.0      1.0  1016   980000.0            House   \n",
       "3        2.0       3.0    1539.0      2.0  1019  1795000.0            House   \n",
       "4        2.0       3.0      70.0      NaN  1029   837780.0            House   \n",
       "\n",
       "   year_date  Month_date  \n",
       "0       2019          10  \n",
       "1       2019           6  \n",
       "2       2019          10  \n",
       "3       2019          10  \n",
       "4       2019          10  "
      ]
     },
     "execution_count": 26,
     "metadata": {},
     "output_type": "execute_result"
    }
   ],
   "source": [
    "result_train.head()"
   ]
  },
  {
   "cell_type": "code",
   "execution_count": 27,
   "metadata": {},
   "outputs": [
    {
     "data": {
      "text/plain": [
       "<matplotlib.axes._subplots.AxesSubplot at 0x2a3b82e2748>"
      ]
     },
     "execution_count": 27,
     "metadata": {},
     "output_type": "execute_result"
    },
    {
     "data": {
      "image/png": "[encoded data removed]",
      "text/plain": [
       "<Figure size 432x288 with 1 Axes>"
      ]
     },
     "metadata": {
      "needs_background": "light"
     },
     "output_type": "display_data"
    }
   ],
   "source": [
    "#Remove outliers in the Bedroom attribute as the model might be bais towards them \n",
    "result_train['Bedrooms'].value_counts().plot(kind='bar')"
   ]
  },
  {
   "cell_type": "code",
   "execution_count": 28,
   "metadata": {},
   "outputs": [],
   "source": [
    "bed_outlier=result_train[(result_train['Bedrooms'] == 15.0) | (result_train['Bedrooms'] == 16.0) | (result_train['Bedrooms'] == 8.0) | (result_train['Bedrooms'] == 9.0)].index\n",
    "result_train.drop(bed_outlier,inplace=True)"
   ]
  },
  {
   "cell_type": "code",
   "execution_count": 29,
   "metadata": {},
   "outputs": [
    {
     "data": {
      "text/plain": [
       "<matplotlib.axes._subplots.AxesSubplot at 0x2a3b8406a48>"
      ]
     },
     "execution_count": 29,
     "metadata": {},
     "output_type": "execute_result"
    },
    {
     "data": {
      "image/png": "[encoded data removed]",
      "text/plain": [
       "<Figure size 432x288 with 1 Axes>"
      ]
     },
     "metadata": {
      "needs_background": "light"
     },
     "output_type": "display_data"
    }
   ],
   "source": [
    "#Remove outliers in the Garages attribute as the model might be bais towards them \n",
    "result_train['Garages'].value_counts().plot(kind='bar')"
   ]
  },
  {
   "cell_type": "code",
   "execution_count": 30,
   "metadata": {},
   "outputs": [],
   "source": [
    "garage_outlier=result_train[(result_train['Garages'] == 7.0) | (result_train['Garages'] == 8.0)].index\n",
    "result_train.drop(garage_outlier,inplace=True)"
   ]
  },
  {
   "cell_type": "code",
   "execution_count": 31,
   "metadata": {},
   "outputs": [
    {
     "data": {
      "text/plain": [
       "<matplotlib.axes._subplots.AxesSubplot at 0x2a3b6c9d3c8>"
      ]
     },
     "execution_count": 31,
     "metadata": {},
     "output_type": "execute_result"
    },
    {
     "data": {
      "image/png": "[encoded data removed]",
      "text/plain": [
       "<Figure size 432x288 with 1 Axes>"
      ]
     },
     "metadata": {
      "needs_background": "light"
     },
     "output_type": "display_data"
    }
   ],
   "source": [
    "#Remove outliers in the Bathrooms attribute as the model might be bais towards them \n",
    "result_train['Bathrooms'].value_counts().plot(kind='bar')"
   ]
  },
  {
   "cell_type": "code",
   "execution_count": 32,
   "metadata": {},
   "outputs": [],
   "source": [
    "bath_outlier=result_train[(result_train['Bathrooms'] == 7.0) | (result_train['Bathrooms'] == 8.0)].index\n",
    "result_train.drop(bath_outlier,inplace=True)"
   ]
  },
  {
   "cell_type": "code",
   "execution_count": 33,
   "metadata": {},
   "outputs": [
    {
     "data": {
      "text/html": [
       "<div>\n",
       "<style scoped>\n",
       "    .dataframe tbody tr th:only-of-type {\n",
       "        vertical-align: middle;\n",
       "    }\n",
       "\n",
       "    .dataframe tbody tr th {\n",
       "        vertical-align: top;\n",
       "    }\n",
       "\n",
       "    .dataframe thead th {\n",
       "        text-align: right;\n",
       "    }\n",
       "</style>\n",
       "<table border=\"1\" class=\"dataframe\">\n",
       "  <thead>\n",
       "    <tr style=\"text-align: right;\">\n",
       "      <th></th>\n",
       "      <th>Bathrooms</th>\n",
       "      <th>Bedrooms</th>\n",
       "      <th>Erf Size</th>\n",
       "      <th>Garages</th>\n",
       "      <th>ID</th>\n",
       "      <th>Price</th>\n",
       "      <th>Type of Property</th>\n",
       "      <th>year_date</th>\n",
       "      <th>Month_date</th>\n",
       "    </tr>\n",
       "  </thead>\n",
       "  <tbody>\n",
       "    <tr>\n",
       "      <td>0</td>\n",
       "      <td>4.0</td>\n",
       "      <td>4.0</td>\n",
       "      <td>NaN</td>\n",
       "      <td>2.0</td>\n",
       "      <td>1003</td>\n",
       "      <td>4299000.0</td>\n",
       "      <td>House</td>\n",
       "      <td>2019</td>\n",
       "      <td>10</td>\n",
       "    </tr>\n",
       "    <tr>\n",
       "      <td>1</td>\n",
       "      <td>2.0</td>\n",
       "      <td>3.0</td>\n",
       "      <td>1733.0</td>\n",
       "      <td>2.0</td>\n",
       "      <td>1011</td>\n",
       "      <td>2800000.0</td>\n",
       "      <td>House</td>\n",
       "      <td>2019</td>\n",
       "      <td>6</td>\n",
       "    </tr>\n",
       "    <tr>\n",
       "      <td>2</td>\n",
       "      <td>2.0</td>\n",
       "      <td>3.0</td>\n",
       "      <td>987.0</td>\n",
       "      <td>1.0</td>\n",
       "      <td>1016</td>\n",
       "      <td>980000.0</td>\n",
       "      <td>House</td>\n",
       "      <td>2019</td>\n",
       "      <td>10</td>\n",
       "    </tr>\n",
       "    <tr>\n",
       "      <td>3</td>\n",
       "      <td>2.0</td>\n",
       "      <td>3.0</td>\n",
       "      <td>1539.0</td>\n",
       "      <td>2.0</td>\n",
       "      <td>1019</td>\n",
       "      <td>1795000.0</td>\n",
       "      <td>House</td>\n",
       "      <td>2019</td>\n",
       "      <td>10</td>\n",
       "    </tr>\n",
       "    <tr>\n",
       "      <td>4</td>\n",
       "      <td>2.0</td>\n",
       "      <td>3.0</td>\n",
       "      <td>70.0</td>\n",
       "      <td>NaN</td>\n",
       "      <td>1029</td>\n",
       "      <td>837780.0</td>\n",
       "      <td>House</td>\n",
       "      <td>2019</td>\n",
       "      <td>10</td>\n",
       "    </tr>\n",
       "  </tbody>\n",
       "</table>\n",
       "</div>"
      ],
      "text/plain": [
       "   Bathrooms  Bedrooms  Erf Size  Garages    ID      Price Type of Property  \\\n",
       "0        4.0       4.0       NaN      2.0  1003  4299000.0            House   \n",
       "1        2.0       3.0    1733.0      2.0  1011  2800000.0            House   \n",
       "2        2.0       3.0     987.0      1.0  1016   980000.0            House   \n",
       "3        2.0       3.0    1539.0      2.0  1019  1795000.0            House   \n",
       "4        2.0       3.0      70.0      NaN  1029   837780.0            House   \n",
       "\n",
       "   year_date  Month_date  \n",
       "0       2019          10  \n",
       "1       2019           6  \n",
       "2       2019          10  \n",
       "3       2019          10  \n",
       "4       2019          10  "
      ]
     },
     "execution_count": 33,
     "metadata": {},
     "output_type": "execute_result"
    }
   ],
   "source": [
    "result_train.head()"
   ]
  },
  {
   "cell_type": "markdown",
   "metadata": {},
   "source": [
    "# EDA"
   ]
  },
  {
   "cell_type": "code",
   "execution_count": 34,
   "metadata": {},
   "outputs": [
    {
     "name": "stdout",
     "output_type": "stream",
     "text": [
      "<class 'pandas.core.frame.DataFrame'>\n",
      "Int64Index: 730 entries, 0 to 737\n",
      "Data columns (total 9 columns):\n",
      "Bathrooms           628 non-null float64\n",
      "Bedrooms            709 non-null float64\n",
      "Erf Size            570 non-null float64\n",
      "Garages             444 non-null float64\n",
      "ID                  730 non-null object\n",
      "Price               728 non-null float64\n",
      "Type of Property    730 non-null object\n",
      "year_date           730 non-null int64\n",
      "Month_date          730 non-null int64\n",
      "dtypes: float64(5), int64(2), object(2)\n",
      "memory usage: 57.0+ KB\n"
     ]
    }
   ],
   "source": [
    "result_train.info()"
   ]
  },
  {
   "cell_type": "code",
   "execution_count": 35,
   "metadata": {},
   "outputs": [
    {
     "data": {
      "text/html": [
       "<div>\n",
       "<style scoped>\n",
       "    .dataframe tbody tr th:only-of-type {\n",
       "        vertical-align: middle;\n",
       "    }\n",
       "\n",
       "    .dataframe tbody tr th {\n",
       "        vertical-align: top;\n",
       "    }\n",
       "\n",
       "    .dataframe thead th {\n",
       "        text-align: right;\n",
       "    }\n",
       "</style>\n",
       "<table border=\"1\" class=\"dataframe\">\n",
       "  <thead>\n",
       "    <tr style=\"text-align: right;\">\n",
       "      <th></th>\n",
       "      <th>Bathrooms</th>\n",
       "      <th>Bedrooms</th>\n",
       "      <th>Erf Size</th>\n",
       "      <th>Garages</th>\n",
       "      <th>Price</th>\n",
       "      <th>year_date</th>\n",
       "      <th>Month_date</th>\n",
       "    </tr>\n",
       "  </thead>\n",
       "  <tbody>\n",
       "    <tr>\n",
       "      <td>count</td>\n",
       "      <td>628.000000</td>\n",
       "      <td>709.000000</td>\n",
       "      <td>570.000000</td>\n",
       "      <td>444.000000</td>\n",
       "      <td>7.280000e+02</td>\n",
       "      <td>730.000000</td>\n",
       "      <td>730.000000</td>\n",
       "    </tr>\n",
       "    <tr>\n",
       "      <td>mean</td>\n",
       "      <td>2.052548</td>\n",
       "      <td>3.122708</td>\n",
       "      <td>878.163158</td>\n",
       "      <td>2.058559</td>\n",
       "      <td>1.982040e+06</td>\n",
       "      <td>2018.919178</td>\n",
       "      <td>7.658904</td>\n",
       "    </tr>\n",
       "    <tr>\n",
       "      <td>std</td>\n",
       "      <td>0.876110</td>\n",
       "      <td>0.965744</td>\n",
       "      <td>4786.222858</td>\n",
       "      <td>0.899558</td>\n",
       "      <td>1.952051e+06</td>\n",
       "      <td>0.347895</td>\n",
       "      <td>2.162807</td>\n",
       "    </tr>\n",
       "    <tr>\n",
       "      <td>min</td>\n",
       "      <td>1.000000</td>\n",
       "      <td>1.000000</td>\n",
       "      <td>1.000000</td>\n",
       "      <td>1.000000</td>\n",
       "      <td>9.000000e+04</td>\n",
       "      <td>2014.000000</td>\n",
       "      <td>1.000000</td>\n",
       "    </tr>\n",
       "    <tr>\n",
       "      <td>25%</td>\n",
       "      <td>2.000000</td>\n",
       "      <td>2.000000</td>\n",
       "      <td>79.250000</td>\n",
       "      <td>2.000000</td>\n",
       "      <td>8.797500e+05</td>\n",
       "      <td>2019.000000</td>\n",
       "      <td>6.000000</td>\n",
       "    </tr>\n",
       "    <tr>\n",
       "      <td>50%</td>\n",
       "      <td>2.000000</td>\n",
       "      <td>3.000000</td>\n",
       "      <td>188.000000</td>\n",
       "      <td>2.000000</td>\n",
       "      <td>1.399000e+06</td>\n",
       "      <td>2019.000000</td>\n",
       "      <td>8.000000</td>\n",
       "    </tr>\n",
       "    <tr>\n",
       "      <td>75%</td>\n",
       "      <td>2.000000</td>\n",
       "      <td>4.000000</td>\n",
       "      <td>681.750000</td>\n",
       "      <td>2.000000</td>\n",
       "      <td>2.296000e+06</td>\n",
       "      <td>2019.000000</td>\n",
       "      <td>9.000000</td>\n",
       "    </tr>\n",
       "    <tr>\n",
       "      <td>max</td>\n",
       "      <td>6.000000</td>\n",
       "      <td>6.000000</td>\n",
       "      <td>89979.000000</td>\n",
       "      <td>6.000000</td>\n",
       "      <td>1.850000e+07</td>\n",
       "      <td>2019.000000</td>\n",
       "      <td>12.000000</td>\n",
       "    </tr>\n",
       "  </tbody>\n",
       "</table>\n",
       "</div>"
      ],
      "text/plain": [
       "        Bathrooms    Bedrooms      Erf Size     Garages         Price  \\\n",
       "count  628.000000  709.000000    570.000000  444.000000  7.280000e+02   \n",
       "mean     2.052548    3.122708    878.163158    2.058559  1.982040e+06   \n",
       "std      0.876110    0.965744   4786.222858    0.899558  1.952051e+06   \n",
       "min      1.000000    1.000000      1.000000    1.000000  9.000000e+04   \n",
       "25%      2.000000    2.000000     79.250000    2.000000  8.797500e+05   \n",
       "50%      2.000000    3.000000    188.000000    2.000000  1.399000e+06   \n",
       "75%      2.000000    4.000000    681.750000    2.000000  2.296000e+06   \n",
       "max      6.000000    6.000000  89979.000000    6.000000  1.850000e+07   \n",
       "\n",
       "         year_date  Month_date  \n",
       "count   730.000000  730.000000  \n",
       "mean   2018.919178    7.658904  \n",
       "std       0.347895    2.162807  \n",
       "min    2014.000000    1.000000  \n",
       "25%    2019.000000    6.000000  \n",
       "50%    2019.000000    8.000000  \n",
       "75%    2019.000000    9.000000  \n",
       "max    2019.000000   12.000000  "
      ]
     },
     "execution_count": 35,
     "metadata": {},
     "output_type": "execute_result"
    }
   ],
   "source": [
    "result_train.describe()"
   ]
  },
  {
   "cell_type": "code",
   "execution_count": 36,
   "metadata": {},
   "outputs": [
    {
     "data": {
      "text/plain": [
       "Bathrooms           102\n",
       "Bedrooms             21\n",
       "Erf Size            160\n",
       "Garages             286\n",
       "ID                    0\n",
       "Price                 2\n",
       "Type of Property      0\n",
       "year_date             0\n",
       "Month_date            0\n",
       "dtype: int64"
      ]
     },
     "execution_count": 36,
     "metadata": {},
     "output_type": "execute_result"
    }
   ],
   "source": [
    "result_train.isnull().sum()"
   ]
  },
  {
   "cell_type": "code",
   "execution_count": 37,
   "metadata": {},
   "outputs": [
    {
     "data": {
      "text/plain": [
       "Bathrooms            31\n",
       "Bedrooms             11\n",
       "Erf Size             70\n",
       "Garages              77\n",
       "ID                    0\n",
       "Price               150\n",
       "Type of Property      0\n",
       "year_date             0\n",
       "Month_date            0\n",
       "dtype: int64"
      ]
     },
     "execution_count": 37,
     "metadata": {},
     "output_type": "execute_result"
    }
   ],
   "source": [
    "result_test.isnull().sum()"
   ]
  },
  {
   "cell_type": "markdown",
   "metadata": {},
   "source": [
    "Below we can see which attributes has a stronger correlation with the dependant variable - Price"
   ]
  },
  {
   "cell_type": "code",
   "execution_count": 38,
   "metadata": {
    "scrolled": true
   },
   "outputs": [
    {
     "data": {
      "text/plain": [
       "<seaborn.axisgrid.FacetGrid at 0x2a3b88810c8>"
      ]
     },
     "execution_count": 38,
     "metadata": {},
     "output_type": "execute_result"
    },
    {
     "data": {
      "image/png": "[encoded data removed]",
      "text/plain": [
       "<Figure size 360x360 with 1 Axes>"
      ]
     },
     "metadata": {
      "needs_background": "light"
     },
     "output_type": "display_data"
    },
    {
     "data": {
      "image/png": "[encoded data removed]",
      "text/plain": [
       "<Figure size 360x360 with 1 Axes>"
      ]
     },
     "metadata": {
      "needs_background": "light"
     },
     "output_type": "display_data"
    },
    {
     "data": {
      "image/png": "[encoded data removed]",
      "text/plain": [
       "<Figure size 360x360 with 1 Axes>"
      ]
     },
     "metadata": {
      "needs_background": "light"
     },
     "output_type": "display_data"
    },
    {
     "data": {
      "image/png": "[encoded data removed]",
      "text/plain": [
       "<Figure size 360x360 with 1 Axes>"
      ]
     },
     "metadata": {
      "needs_background": "light"
     },
     "output_type": "display_data"
    },
    {
     "data": {
      "image/png": "[encoded data removed]",
      "text/plain": [
       "<Figure size 360x360 with 1 Axes>"
      ]
     },
     "metadata": {
      "needs_background": "light"
     },
     "output_type": "display_data"
    }
   ],
   "source": [
    "sns.lmplot('Bedrooms','Price',data=result_train)\n",
    "sns.lmplot('Bathrooms','Price',data=result_train)\n",
    "sns.lmplot('Erf Size','Price',data=result_train)\n",
    "sns.lmplot('year_date','Price',data=result_train)\n",
    "sns.lmplot('Garages','Price',data=result_train)"
   ]
  },
  {
   "cell_type": "markdown",
   "metadata": {},
   "source": [
    "Distributions plots of independant variables."
   ]
  },
  {
   "cell_type": "code",
   "execution_count": 39,
   "metadata": {},
   "outputs": [
    {
     "data": {
      "text/plain": [
       "<matplotlib.axes._subplots.AxesSubplot at 0x2a3b8991548>"
      ]
     },
     "execution_count": 39,
     "metadata": {},
     "output_type": "execute_result"
    },
    {
     "data": {
      "image/png": "[encoded data removed]",
      "text/plain": [
       "<Figure size 432x288 with 1 Axes>"
      ]
     },
     "metadata": {
      "needs_background": "light"
     },
     "output_type": "display_data"
    }
   ],
   "source": [
    "sns.distplot(result_train['Bedrooms'].dropna())"
   ]
  },
  {
   "cell_type": "code",
   "execution_count": 40,
   "metadata": {},
   "outputs": [
    {
     "data": {
      "text/plain": [
       "<matplotlib.axes._subplots.AxesSubplot at 0x2a3b8a4d3c8>"
      ]
     },
     "execution_count": 40,
     "metadata": {},
     "output_type": "execute_result"
    },
    {
     "data": {
      "image/png": "[encoded data removed]",
      "text/plain": [
       "<Figure size 432x288 with 1 Axes>"
      ]
     },
     "metadata": {
      "needs_background": "light"
     },
     "output_type": "display_data"
    }
   ],
   "source": [
    "sns.distplot(result_train['Bathrooms'].dropna())"
   ]
  },
  {
   "cell_type": "code",
   "execution_count": 41,
   "metadata": {},
   "outputs": [
    {
     "data": {
      "text/plain": [
       "<matplotlib.axes._subplots.AxesSubplot at 0x2a3b8477b88>"
      ]
     },
     "execution_count": 41,
     "metadata": {},
     "output_type": "execute_result"
    },
    {
     "data": {
      "image/png": "[encoded data removed]",
      "text/plain": [
       "<Figure size 432x288 with 1 Axes>"
      ]
     },
     "metadata": {
      "needs_background": "light"
     },
     "output_type": "display_data"
    }
   ],
   "source": [
    "sns.distplot(result_train['Erf Size'].dropna())"
   ]
  },
  {
   "cell_type": "code",
   "execution_count": 42,
   "metadata": {},
   "outputs": [
    {
     "data": {
      "text/plain": [
       "<matplotlib.axes._subplots.AxesSubplot at 0x2a3b82e7908>"
      ]
     },
     "execution_count": 42,
     "metadata": {},
     "output_type": "execute_result"
    },
    {
     "data": {
      "image/png": "[encoded data removed]",
      "text/plain": [
       "<Figure size 432x288 with 1 Axes>"
      ]
     },
     "metadata": {
      "needs_background": "light"
     },
     "output_type": "display_data"
    }
   ],
   "source": [
    "sns.distplot(result_train['Garages'].dropna())"
   ]
  },
  {
   "cell_type": "code",
   "execution_count": 43,
   "metadata": {},
   "outputs": [
    {
     "data": {
      "text/plain": [
       "<matplotlib.axes._subplots.AxesSubplot at 0x2a3b8539cc8>"
      ]
     },
     "execution_count": 43,
     "metadata": {},
     "output_type": "execute_result"
    },
    {
     "data": {
      "image/png": "[encoded data removed]",
      "text/plain": [
       "<Figure size 432x288 with 1 Axes>"
      ]
     },
     "metadata": {
      "needs_background": "light"
     },
     "output_type": "display_data"
    }
   ],
   "source": [
    "sns.distplot(result_train['Price'].dropna())"
   ]
  },
  {
   "cell_type": "code",
   "execution_count": 44,
   "metadata": {},
   "outputs": [],
   "source": [
    "y = result_train['Price']"
   ]
  },
  {
   "cell_type": "code",
   "execution_count": 45,
   "metadata": {},
   "outputs": [
    {
     "data": {
      "text/plain": [
       "<matplotlib.axes._subplots.AxesSubplot at 0x2a3b8b84a08>"
      ]
     },
     "execution_count": 45,
     "metadata": {},
     "output_type": "execute_result"
    },
    {
     "data": {
      "image/png": "[encoded data removed]",
      "text/plain": [
       "<Figure size 432x288 with 2 Axes>"
      ]
     },
     "metadata": {
      "needs_background": "light"
     },
     "output_type": "display_data"
    }
   ],
   "source": [
    "corr= pd.concat([result_train,y],axis=1).corr()\n",
    "sns.heatmap(corr)"
   ]
  },
  {
   "cell_type": "code",
   "execution_count": 87,
   "metadata": {},
   "outputs": [
    {
     "data": {
      "text/plain": [
       "0      4299000.0\n",
       "1      2800000.0\n",
       "2       980000.0\n",
       "3      1795000.0\n",
       "4       837780.0\n",
       "         ...    \n",
       "733     880000.0\n",
       "734    2750000.0\n",
       "735    1895000.0\n",
       "736     230000.0\n",
       "737    1850000.0\n",
       "Name: Price, Length: 730, dtype: float64"
      ]
     },
     "execution_count": 87,
     "metadata": {},
     "output_type": "execute_result"
    }
   ],
   "source": [
    "y"
   ]
  },
  {
   "cell_type": "markdown",
   "metadata": {},
   "source": [
    "# Impute Nan values"
   ]
  },
  {
   "cell_type": "code",
   "execution_count": 46,
   "metadata": {},
   "outputs": [
    {
     "data": {
      "text/plain": [
       "Bathrooms           102\n",
       "Bedrooms             21\n",
       "Erf Size            160\n",
       "Garages             286\n",
       "ID                    0\n",
       "Price                 2\n",
       "Type of Property      0\n",
       "year_date             0\n",
       "Month_date            0\n",
       "dtype: int64"
      ]
     },
     "execution_count": 46,
     "metadata": {},
     "output_type": "execute_result"
    }
   ],
   "source": [
    "result_train.isnull().sum()"
   ]
  },
  {
   "cell_type": "code",
   "execution_count": 47,
   "metadata": {},
   "outputs": [
    {
     "data": {
      "text/plain": [
       "Bathrooms            31\n",
       "Bedrooms             11\n",
       "Erf Size             70\n",
       "Garages              77\n",
       "ID                    0\n",
       "Price               150\n",
       "Type of Property      0\n",
       "year_date             0\n",
       "Month_date            0\n",
       "dtype: int64"
      ]
     },
     "execution_count": 47,
     "metadata": {},
     "output_type": "execute_result"
    }
   ],
   "source": [
    "result_test.isnull().sum()"
   ]
  },
  {
   "cell_type": "code",
   "execution_count": 48,
   "metadata": {},
   "outputs": [
    {
     "name": "stderr",
     "output_type": "stream",
     "text": [
      "C:\\Users\\Marcus\\Anaconda3\\lib\\site-packages\\ipykernel_launcher.py:3: SettingWithCopyWarning: \n",
      "A value is trying to be set on a copy of a slice from a DataFrame.\n",
      "Try using .loc[row_indexer,col_indexer] = value instead\n",
      "\n",
      "See the caveats in the documentation: http://pandas.pydata.org/pandas-docs/stable/user_guide/indexing.html#returning-a-view-versus-a-copy\n",
      "  This is separate from the ipykernel package so we can avoid doing imports until\n",
      "C:\\Users\\Marcus\\Anaconda3\\lib\\site-packages\\ipykernel_launcher.py:5: SettingWithCopyWarning: \n",
      "A value is trying to be set on a copy of a slice from a DataFrame.\n",
      "Try using .loc[row_indexer,col_indexer] = value instead\n",
      "\n",
      "See the caveats in the documentation: http://pandas.pydata.org/pandas-docs/stable/user_guide/indexing.html#returning-a-view-versus-a-copy\n",
      "  \"\"\"\n",
      "C:\\Users\\Marcus\\Anaconda3\\lib\\site-packages\\ipykernel_launcher.py:7: SettingWithCopyWarning: \n",
      "A value is trying to be set on a copy of a slice from a DataFrame.\n",
      "Try using .loc[row_indexer,col_indexer] = value instead\n",
      "\n",
      "See the caveats in the documentation: http://pandas.pydata.org/pandas-docs/stable/user_guide/indexing.html#returning-a-view-versus-a-copy\n",
      "  import sys\n",
      "C:\\Users\\Marcus\\Anaconda3\\lib\\site-packages\\ipykernel_launcher.py:9: SettingWithCopyWarning: \n",
      "A value is trying to be set on a copy of a slice from a DataFrame.\n",
      "Try using .loc[row_indexer,col_indexer] = value instead\n",
      "\n",
      "See the caveats in the documentation: http://pandas.pydata.org/pandas-docs/stable/user_guide/indexing.html#returning-a-view-versus-a-copy\n",
      "  if __name__ == '__main__':\n",
      "C:\\Users\\Marcus\\Anaconda3\\lib\\site-packages\\ipykernel_launcher.py:11: SettingWithCopyWarning: \n",
      "A value is trying to be set on a copy of a slice from a DataFrame.\n",
      "Try using .loc[row_indexer,col_indexer] = value instead\n",
      "\n",
      "See the caveats in the documentation: http://pandas.pydata.org/pandas-docs/stable/user_guide/indexing.html#returning-a-view-versus-a-copy\n",
      "  # This is added back by InteractiveShellApp.init_path()\n"
     ]
    }
   ],
   "source": [
    "#Train Set\n",
    "#For attribute Garage impute the median as it has a positive skew \n",
    "result_train['Garages']=result_train['Garages'].fillna(result_train['Garages'].mode()[0])\n",
    "#For attribute Erf Size impute the mean as it has a normal distribution.\n",
    "result_train['Erf Size']=result_train['Erf Size'].fillna(result_train['Erf Size'].median())\n",
    "#For attribute Bedrooms impute the mean as it has a normal distribution.\n",
    "result_train['Bedrooms']=result_train['Bedrooms'].fillna(int(result_train['Bedrooms'].mean()))\n",
    "#For attribute Bathrooms impute the median as it has a positive skew.\n",
    "result_train['Bathrooms']=result_train['Bathrooms'].fillna(int(result['Bathrooms'].median()))\n",
    "#For attribute Price impute the median as it has a positive skew.\n",
    "result_train['Price']=result_train['Price'].fillna(result['Bathrooms'].median())"
   ]
  },
  {
   "cell_type": "code",
   "execution_count": 49,
   "metadata": {},
   "outputs": [
    {
     "name": "stderr",
     "output_type": "stream",
     "text": [
      "C:\\Users\\Marcus\\Anaconda3\\lib\\site-packages\\ipykernel_launcher.py:3: SettingWithCopyWarning: \n",
      "A value is trying to be set on a copy of a slice from a DataFrame.\n",
      "Try using .loc[row_indexer,col_indexer] = value instead\n",
      "\n",
      "See the caveats in the documentation: http://pandas.pydata.org/pandas-docs/stable/user_guide/indexing.html#returning-a-view-versus-a-copy\n",
      "  This is separate from the ipykernel package so we can avoid doing imports until\n",
      "C:\\Users\\Marcus\\Anaconda3\\lib\\site-packages\\ipykernel_launcher.py:5: SettingWithCopyWarning: \n",
      "A value is trying to be set on a copy of a slice from a DataFrame.\n",
      "Try using .loc[row_indexer,col_indexer] = value instead\n",
      "\n",
      "See the caveats in the documentation: http://pandas.pydata.org/pandas-docs/stable/user_guide/indexing.html#returning-a-view-versus-a-copy\n",
      "  \"\"\"\n",
      "C:\\Users\\Marcus\\Anaconda3\\lib\\site-packages\\ipykernel_launcher.py:7: SettingWithCopyWarning: \n",
      "A value is trying to be set on a copy of a slice from a DataFrame.\n",
      "Try using .loc[row_indexer,col_indexer] = value instead\n",
      "\n",
      "See the caveats in the documentation: http://pandas.pydata.org/pandas-docs/stable/user_guide/indexing.html#returning-a-view-versus-a-copy\n",
      "  import sys\n",
      "C:\\Users\\Marcus\\Anaconda3\\lib\\site-packages\\ipykernel_launcher.py:9: SettingWithCopyWarning: \n",
      "A value is trying to be set on a copy of a slice from a DataFrame.\n",
      "Try using .loc[row_indexer,col_indexer] = value instead\n",
      "\n",
      "See the caveats in the documentation: http://pandas.pydata.org/pandas-docs/stable/user_guide/indexing.html#returning-a-view-versus-a-copy\n",
      "  if __name__ == '__main__':\n"
     ]
    }
   ],
   "source": [
    "#Test Set\n",
    "#For attribute Garage impute the median as it has a positive skew \n",
    "result_test['Garages']=result_test['Garages'].fillna(result_train['Garages'].mode()[0])\n",
    "#For attribute Erf Size impute the mean as it has a normal distribution.\n",
    "result_test['Erf Size']=result_test['Erf Size'].fillna(result_train['Erf Size'].median())\n",
    "#For attribute Bedrooms impute the mean as it has a normal distribution.\n",
    "result_test['Bedrooms']=result_test['Bedrooms'].fillna(int(result_train['Bedrooms'].mean()))\n",
    "#For attribute Bathrooms impute the median as it has a positive skew.\n",
    "result_test['Bathrooms']=result_test['Bathrooms'].fillna(int(result['Bathrooms'].median()))"
   ]
  },
  {
   "cell_type": "code",
   "execution_count": 50,
   "metadata": {},
   "outputs": [],
   "source": [
    "#Drop Price on Test Set\n",
    "result_test.drop('Price',axis=1,inplace=True)"
   ]
  },
  {
   "cell_type": "code",
   "execution_count": 51,
   "metadata": {},
   "outputs": [
    {
     "data": {
      "text/plain": [
       "Bathrooms           0\n",
       "Bedrooms            0\n",
       "Erf Size            0\n",
       "Garages             0\n",
       "ID                  0\n",
       "Price               0\n",
       "Type of Property    0\n",
       "year_date           0\n",
       "Month_date          0\n",
       "dtype: int64"
      ]
     },
     "execution_count": 51,
     "metadata": {},
     "output_type": "execute_result"
    }
   ],
   "source": [
    "result_train.isnull().sum()"
   ]
  },
  {
   "cell_type": "code",
   "execution_count": 52,
   "metadata": {},
   "outputs": [],
   "source": [
    "#Remove dependant variable\n",
    "result_train=result_train.drop(['Price'],axis=1)\n",
    "#train=train.reset_index()"
   ]
  },
  {
   "cell_type": "code",
   "execution_count": 53,
   "metadata": {},
   "outputs": [
    {
     "data": {
      "text/plain": [
       "(730,)"
      ]
     },
     "execution_count": 53,
     "metadata": {},
     "output_type": "execute_result"
    }
   ],
   "source": [
    "y.shape"
   ]
  },
  {
   "cell_type": "code",
   "execution_count": 54,
   "metadata": {},
   "outputs": [
    {
     "data": {
      "text/html": [
       "<div>\n",
       "<style scoped>\n",
       "    .dataframe tbody tr th:only-of-type {\n",
       "        vertical-align: middle;\n",
       "    }\n",
       "\n",
       "    .dataframe tbody tr th {\n",
       "        vertical-align: top;\n",
       "    }\n",
       "\n",
       "    .dataframe thead th {\n",
       "        text-align: right;\n",
       "    }\n",
       "</style>\n",
       "<table border=\"1\" class=\"dataframe\">\n",
       "  <thead>\n",
       "    <tr style=\"text-align: right;\">\n",
       "      <th></th>\n",
       "      <th>Bathrooms</th>\n",
       "      <th>Bedrooms</th>\n",
       "      <th>Erf Size</th>\n",
       "      <th>Garages</th>\n",
       "      <th>ID</th>\n",
       "      <th>Type of Property</th>\n",
       "      <th>year_date</th>\n",
       "      <th>Month_date</th>\n",
       "    </tr>\n",
       "  </thead>\n",
       "  <tbody>\n",
       "    <tr>\n",
       "      <td>738</td>\n",
       "      <td>2.0</td>\n",
       "      <td>2.0</td>\n",
       "      <td>70.0</td>\n",
       "      <td>2.0</td>\n",
       "      <td>4001</td>\n",
       "      <td>Apartment / Flat</td>\n",
       "      <td>2019</td>\n",
       "      <td>6</td>\n",
       "    </tr>\n",
       "    <tr>\n",
       "      <td>739</td>\n",
       "      <td>1.0</td>\n",
       "      <td>2.0</td>\n",
       "      <td>91.0</td>\n",
       "      <td>2.0</td>\n",
       "      <td>4002</td>\n",
       "      <td>Townhouse</td>\n",
       "      <td>2019</td>\n",
       "      <td>2</td>\n",
       "    </tr>\n",
       "    <tr>\n",
       "      <td>740</td>\n",
       "      <td>2.0</td>\n",
       "      <td>2.0</td>\n",
       "      <td>72.0</td>\n",
       "      <td>2.0</td>\n",
       "      <td>4003</td>\n",
       "      <td>Townhouse</td>\n",
       "      <td>2019</td>\n",
       "      <td>5</td>\n",
       "    </tr>\n",
       "    <tr>\n",
       "      <td>741</td>\n",
       "      <td>4.0</td>\n",
       "      <td>4.0</td>\n",
       "      <td>265.0</td>\n",
       "      <td>2.0</td>\n",
       "      <td>4007</td>\n",
       "      <td>House</td>\n",
       "      <td>2019</td>\n",
       "      <td>2</td>\n",
       "    </tr>\n",
       "    <tr>\n",
       "      <td>742</td>\n",
       "      <td>2.0</td>\n",
       "      <td>3.0</td>\n",
       "      <td>213.0</td>\n",
       "      <td>2.0</td>\n",
       "      <td>4016</td>\n",
       "      <td>Townhouse</td>\n",
       "      <td>2018</td>\n",
       "      <td>8</td>\n",
       "    </tr>\n",
       "  </tbody>\n",
       "</table>\n",
       "</div>"
      ],
      "text/plain": [
       "     Bathrooms  Bedrooms  Erf Size  Garages    ID  Type of Property  \\\n",
       "738        2.0       2.0      70.0      2.0  4001  Apartment / Flat   \n",
       "739        1.0       2.0      91.0      2.0  4002         Townhouse   \n",
       "740        2.0       2.0      72.0      2.0  4003         Townhouse   \n",
       "741        4.0       4.0     265.0      2.0  4007             House   \n",
       "742        2.0       3.0     213.0      2.0  4016         Townhouse   \n",
       "\n",
       "     year_date  Month_date  \n",
       "738       2019           6  \n",
       "739       2019           2  \n",
       "740       2019           5  \n",
       "741       2019           2  \n",
       "742       2018           8  "
      ]
     },
     "execution_count": 54,
     "metadata": {},
     "output_type": "execute_result"
    }
   ],
   "source": [
    "result_test.head()"
   ]
  },
  {
   "cell_type": "markdown",
   "metadata": {},
   "source": [
    "Create dummies variables for catagorical attributes."
   ]
  },
  {
   "cell_type": "code",
   "execution_count": 55,
   "metadata": {},
   "outputs": [],
   "source": [
    "x_train_dummies = pd.get_dummies(result_train['Type of Property'], drop_first=True)\n",
    "x_train_num=pd.concat([result_train,x_train_dummies],axis=1)\n",
    "x_train_num.drop('Type of Property',axis=1,inplace=True)\n",
    "x_test_dummies = pd.get_dummies(result_test['Type of Property'], drop_first=True)\n",
    "x_test_num=pd.concat([result_test,x_test_dummies],axis=1)\n",
    "x_test_num.drop('Type of Property',axis=1,inplace=True)"
   ]
  },
  {
   "cell_type": "code",
   "execution_count": 56,
   "metadata": {},
   "outputs": [
    {
     "data": {
      "text/plain": [
       "((730, 9), (730,), (150, 9))"
      ]
     },
     "execution_count": 56,
     "metadata": {},
     "output_type": "execute_result"
    }
   ],
   "source": [
    "x_train_num.shape, y.shape,x_test_num.shape"
   ]
  },
  {
   "cell_type": "code",
   "execution_count": 57,
   "metadata": {},
   "outputs": [],
   "source": [
    "ID_test= x_test_num['ID']\n",
    "x_test_num.drop('ID',axis=1,inplace=True)\n",
    "ID_train=x_train_num['ID']\n",
    "x_train_num.drop('ID',axis=1,inplace=True)"
   ]
  },
  {
   "cell_type": "code",
   "execution_count": 58,
   "metadata": {},
   "outputs": [
    {
     "data": {
      "text/plain": [
       "((730,), (150,))"
      ]
     },
     "execution_count": 58,
     "metadata": {},
     "output_type": "execute_result"
    }
   ],
   "source": [
    "ID_train.shape,ID_test.shape"
   ]
  },
  {
   "cell_type": "code",
   "execution_count": 59,
   "metadata": {},
   "outputs": [
    {
     "data": {
      "text/html": [
       "<div>\n",
       "<style scoped>\n",
       "    .dataframe tbody tr th:only-of-type {\n",
       "        vertical-align: middle;\n",
       "    }\n",
       "\n",
       "    .dataframe tbody tr th {\n",
       "        vertical-align: top;\n",
       "    }\n",
       "\n",
       "    .dataframe thead th {\n",
       "        text-align: right;\n",
       "    }\n",
       "</style>\n",
       "<table border=\"1\" class=\"dataframe\">\n",
       "  <thead>\n",
       "    <tr style=\"text-align: right;\">\n",
       "      <th></th>\n",
       "      <th>Bathrooms</th>\n",
       "      <th>Bedrooms</th>\n",
       "      <th>Erf Size</th>\n",
       "      <th>Garages</th>\n",
       "      <th>year_date</th>\n",
       "      <th>Month_date</th>\n",
       "      <th>House</th>\n",
       "      <th>Townhouse</th>\n",
       "    </tr>\n",
       "  </thead>\n",
       "  <tbody>\n",
       "    <tr>\n",
       "      <td>0</td>\n",
       "      <td>4.0</td>\n",
       "      <td>4.0</td>\n",
       "      <td>188.0</td>\n",
       "      <td>2.0</td>\n",
       "      <td>2019</td>\n",
       "      <td>10</td>\n",
       "      <td>1</td>\n",
       "      <td>0</td>\n",
       "    </tr>\n",
       "    <tr>\n",
       "      <td>1</td>\n",
       "      <td>2.0</td>\n",
       "      <td>3.0</td>\n",
       "      <td>1733.0</td>\n",
       "      <td>2.0</td>\n",
       "      <td>2019</td>\n",
       "      <td>6</td>\n",
       "      <td>1</td>\n",
       "      <td>0</td>\n",
       "    </tr>\n",
       "    <tr>\n",
       "      <td>2</td>\n",
       "      <td>2.0</td>\n",
       "      <td>3.0</td>\n",
       "      <td>987.0</td>\n",
       "      <td>1.0</td>\n",
       "      <td>2019</td>\n",
       "      <td>10</td>\n",
       "      <td>1</td>\n",
       "      <td>0</td>\n",
       "    </tr>\n",
       "    <tr>\n",
       "      <td>3</td>\n",
       "      <td>2.0</td>\n",
       "      <td>3.0</td>\n",
       "      <td>1539.0</td>\n",
       "      <td>2.0</td>\n",
       "      <td>2019</td>\n",
       "      <td>10</td>\n",
       "      <td>1</td>\n",
       "      <td>0</td>\n",
       "    </tr>\n",
       "    <tr>\n",
       "      <td>4</td>\n",
       "      <td>2.0</td>\n",
       "      <td>3.0</td>\n",
       "      <td>70.0</td>\n",
       "      <td>2.0</td>\n",
       "      <td>2019</td>\n",
       "      <td>10</td>\n",
       "      <td>1</td>\n",
       "      <td>0</td>\n",
       "    </tr>\n",
       "  </tbody>\n",
       "</table>\n",
       "</div>"
      ],
      "text/plain": [
       "   Bathrooms  Bedrooms  Erf Size  Garages  year_date  Month_date  House  \\\n",
       "0        4.0       4.0     188.0      2.0       2019          10      1   \n",
       "1        2.0       3.0    1733.0      2.0       2019           6      1   \n",
       "2        2.0       3.0     987.0      1.0       2019          10      1   \n",
       "3        2.0       3.0    1539.0      2.0       2019          10      1   \n",
       "4        2.0       3.0      70.0      2.0       2019          10      1   \n",
       "\n",
       "   Townhouse  \n",
       "0          0  \n",
       "1          0  \n",
       "2          0  \n",
       "3          0  \n",
       "4          0  "
      ]
     },
     "execution_count": 59,
     "metadata": {},
     "output_type": "execute_result"
    }
   ],
   "source": [
    "x_train_num.head()"
   ]
  },
  {
   "cell_type": "code",
   "execution_count": null,
   "metadata": {},
   "outputs": [],
   "source": [
    "\n"
   ]
  },
  {
   "cell_type": "code",
   "execution_count": 60,
   "metadata": {},
   "outputs": [
    {
     "data": {
      "text/plain": [
       "<matplotlib.axes._subplots.AxesSubplot at 0x2a3b8b36248>"
      ]
     },
     "execution_count": 60,
     "metadata": {},
     "output_type": "execute_result"
    },
    {
     "data": {
      "image/png": "[encoded data removed]",
      "text/plain": [
       "<Figure size 720x576 with 2 Axes>"
      ]
     },
     "metadata": {
      "needs_background": "light"
     },
     "output_type": "display_data"
    }
   ],
   "source": [
    "plt.figure(figsize=(10,8))\n",
    "corr= pd.concat([x_train_num,y],axis=1).corr()\n",
    "sns.heatmap(corr,annot=True,cmap='RdYlGn')"
   ]
  },
  {
   "cell_type": "code",
   "execution_count": 61,
   "metadata": {},
   "outputs": [],
   "source": [
    "#Reduce the dimention\n",
    "x_train_num = x_train_num[['Bedrooms','Bathrooms','Garages','House']]\n",
    "x_test_num = x_test_num[['Bedrooms','Bathrooms','Garages','House']]"
   ]
  },
  {
   "cell_type": "code",
   "execution_count": 62,
   "metadata": {},
   "outputs": [
    {
     "data": {
      "text/html": [
       "<div>\n",
       "<style scoped>\n",
       "    .dataframe tbody tr th:only-of-type {\n",
       "        vertical-align: middle;\n",
       "    }\n",
       "\n",
       "    .dataframe tbody tr th {\n",
       "        vertical-align: top;\n",
       "    }\n",
       "\n",
       "    .dataframe thead th {\n",
       "        text-align: right;\n",
       "    }\n",
       "</style>\n",
       "<table border=\"1\" class=\"dataframe\">\n",
       "  <thead>\n",
       "    <tr style=\"text-align: right;\">\n",
       "      <th></th>\n",
       "      <th>Bedrooms</th>\n",
       "      <th>Bathrooms</th>\n",
       "      <th>Garages</th>\n",
       "      <th>House</th>\n",
       "    </tr>\n",
       "  </thead>\n",
       "  <tbody>\n",
       "    <tr>\n",
       "      <td>738</td>\n",
       "      <td>2.0</td>\n",
       "      <td>2.0</td>\n",
       "      <td>2.0</td>\n",
       "      <td>0</td>\n",
       "    </tr>\n",
       "    <tr>\n",
       "      <td>739</td>\n",
       "      <td>2.0</td>\n",
       "      <td>1.0</td>\n",
       "      <td>2.0</td>\n",
       "      <td>0</td>\n",
       "    </tr>\n",
       "    <tr>\n",
       "      <td>740</td>\n",
       "      <td>2.0</td>\n",
       "      <td>2.0</td>\n",
       "      <td>2.0</td>\n",
       "      <td>0</td>\n",
       "    </tr>\n",
       "    <tr>\n",
       "      <td>741</td>\n",
       "      <td>4.0</td>\n",
       "      <td>4.0</td>\n",
       "      <td>2.0</td>\n",
       "      <td>1</td>\n",
       "    </tr>\n",
       "    <tr>\n",
       "      <td>742</td>\n",
       "      <td>3.0</td>\n",
       "      <td>2.0</td>\n",
       "      <td>2.0</td>\n",
       "      <td>0</td>\n",
       "    </tr>\n",
       "  </tbody>\n",
       "</table>\n",
       "</div>"
      ],
      "text/plain": [
       "     Bedrooms  Bathrooms  Garages  House\n",
       "738       2.0        2.0      2.0      0\n",
       "739       2.0        1.0      2.0      0\n",
       "740       2.0        2.0      2.0      0\n",
       "741       4.0        4.0      2.0      1\n",
       "742       3.0        2.0      2.0      0"
      ]
     },
     "execution_count": 62,
     "metadata": {},
     "output_type": "execute_result"
    }
   ],
   "source": [
    "x_test_num.head()"
   ]
  },
  {
   "cell_type": "markdown",
   "metadata": {},
   "source": [
    "# Training Model"
   ]
  },
  {
   "cell_type": "code",
   "execution_count": 63,
   "metadata": {},
   "outputs": [],
   "source": [
    "from sklearn.model_selection import train_test_split\n",
    "from sklearn.preprocessing import StandardScaler, MinMaxScaler, PowerTransformer\n",
    "from sklearn.linear_model import LinearRegression, Ridge, Lasso\n",
    "from sklearn.ensemble import RandomForestRegressor\n",
    "from sklearn import metrics"
   ]
  },
  {
   "cell_type": "code",
   "execution_count": 64,
   "metadata": {
    "scrolled": true
   },
   "outputs": [
    {
     "data": {
      "text/plain": [
       "((547, 4), (183, 4))"
      ]
     },
     "execution_count": 64,
     "metadata": {},
     "output_type": "execute_result"
    }
   ],
   "source": [
    "X_train, X_test, y_train, y_test = train_test_split(x_train_num, y, random_state=11)\n",
    "\n",
    "sc = StandardScaler()\n",
    "sc.fit(X_train)\n",
    "X_train_scaled = sc.transform(X_train)\n",
    "X_test_scaled = sc.transform(X_test)\n",
    "#X_blind_scaled = sc.transform(test_num)\n",
    "\n",
    "X_train_scaled.shape, X_test_scaled.shape"
   ]
  },
  {
   "cell_type": "code",
   "execution_count": null,
   "metadata": {},
   "outputs": [],
   "source": []
  },
  {
   "cell_type": "code",
   "execution_count": 65,
   "metadata": {},
   "outputs": [],
   "source": [
    "#Fit linear regression to data\n",
    "linreg = LinearRegression()\n",
    "linreg.fit(X_train_scaled, y_train)\n",
    "\n",
    "X_train_pred = linreg.predict(X_train_scaled)\n",
    "X_test_pred = linreg.predict(X_test_scaled)\n"
   ]
  },
  {
   "cell_type": "code",
   "execution_count": 66,
   "metadata": {},
   "outputs": [
    {
     "name": "stdout",
     "output_type": "stream",
     "text": [
      "RMSE: 1379719.2749692944\n",
      "RMSE: 0.7033138395443354\n",
      "RMSE pred: 1468138.828237746\n",
      "R_squared pred: 0.45005391978826825\n"
     ]
    }
   ],
   "source": [
    "#Evaluate train set\n",
    "print('RMSE:', np.sqrt(metrics.mean_squared_error(y_train, X_train_pred)))\n",
    "print('RMSE:', np.sqrt(metrics.r2_score(y_train, X_train_pred)))\n",
    "#Evaluate test set\n",
    "print('RMSE pred:', np.sqrt(metrics.mean_squared_error(y_test, X_test_pred)))\n",
    "print('R_squared pred:', metrics.r2_score(y_test, X_test_pred))"
   ]
  },
  {
   "cell_type": "markdown",
   "metadata": {},
   "source": [
    "A linear Regression model predicts well on the training data but not so well on the test data."
   ]
  },
  {
   "cell_type": "code",
   "execution_count": 67,
   "metadata": {},
   "outputs": [
    {
     "name": "stdout",
     "output_type": "stream",
     "text": [
      "alpha:  0.0001\n",
      "RMSE: 1379841.4629586954\n",
      "RMSE: 0.7032502011130068\n",
      "RMSE pred: 1465774.10755728\n",
      "R_squared pred: 0.45182408145974673\n",
      "\n",
      "\n",
      "alpha:  0.001\n",
      "RMSE: 1379841.4629586954\n",
      "RMSE: 0.7032502011130068\n",
      "RMSE pred: 1465774.10755728\n",
      "R_squared pred: 0.45182408145974673\n",
      "\n",
      "\n",
      "alpha:  0.01\n",
      "RMSE: 1379841.4629586954\n",
      "RMSE: 0.7032502011130068\n",
      "RMSE pred: 1465774.10755728\n",
      "R_squared pred: 0.45182408145974673\n",
      "\n",
      "\n",
      "alpha:  0.1\n",
      "RMSE: 1379841.4629586954\n",
      "RMSE: 0.7032502011130068\n",
      "RMSE pred: 1465774.10755728\n",
      "R_squared pred: 0.45182408145974673\n",
      "\n",
      "\n",
      "alpha:  1\n",
      "RMSE: 1379841.4629586954\n",
      "RMSE: 0.7032502011130068\n",
      "RMSE pred: 1465774.10755728\n",
      "R_squared pred: 0.45182408145974673\n",
      "\n",
      "\n"
     ]
    }
   ],
   "source": [
    "for i in [0.0001, 0.001, 0.01, 0.1, 1]:\n",
    "    rr = Ridge(alpha=10)\n",
    "    rr.fit(X_train_scaled, y_train)\n",
    "    \n",
    "    rr_X_train_pred = rr.predict(X_train_scaled)\n",
    "    rr_X_test_pred = rr.predict(X_test_scaled)\n",
    "    \n",
    "    print('alpha: ', i)\n",
    "    \n",
    "    print('RMSE:', np.sqrt(metrics.mean_squared_error(y_train, rr_X_train_pred)))\n",
    "    print('RMSE:', np.sqrt(metrics.r2_score(y_train, rr_X_train_pred)))\n",
    "    \n",
    "    print('RMSE pred:', np.sqrt(metrics.mean_squared_error(y_test, rr_X_test_pred)))\n",
    "    print('R_squared pred:', metrics.r2_score(y_test, rr_X_test_pred))\n",
    "    \n",
    "    print('\\n')"
   ]
  },
  {
   "cell_type": "markdown",
   "metadata": {},
   "source": [
    "A Ridge Regression model does not differ much from the linear regression irrespective of the alpha values that differ. It predicts well on the training data but not so well on the test data."
   ]
  },
  {
   "cell_type": "code",
   "execution_count": 68,
   "metadata": {},
   "outputs": [
    {
     "name": "stdout",
     "output_type": "stream",
     "text": [
      "RMSE: 1379841.4629586954\n",
      "RMSE: 0.7032502011130068\n",
      "RMSE pred: 1465774.10755728\n",
      "R_squared pred: 0.45182408145974673\n"
     ]
    }
   ],
   "source": [
    "#Evaluate train set\n",
    "print('RMSE:', np.sqrt(metrics.mean_squared_error(y_train, rr_X_train_pred)))\n",
    "print('RMSE:', np.sqrt(metrics.r2_score(y_train, rr_X_train_pred)))\n",
    "#Evaluate test set\n",
    "print('RMSE pred:', np.sqrt(metrics.mean_squared_error(y_test, rr_X_test_pred)))\n",
    "print('R_squared pred:', metrics.r2_score(y_test, rr_X_test_pred))"
   ]
  },
  {
   "cell_type": "code",
   "execution_count": 69,
   "metadata": {},
   "outputs": [
    {
     "name": "stdout",
     "output_type": "stream",
     "text": [
      "alpha: 0.0001\n",
      "RMSE: 1379719.2749692944\n",
      "RMSE: 0.7033138395443354\n",
      "RMSE pred: 1468138.828212434\n",
      "R_squared pred: 0.4500539198072312\n",
      "\n",
      "\n",
      "alpha: 0.001\n",
      "RMSE: 1379719.2749692944\n",
      "RMSE: 0.7033138395443354\n",
      "RMSE pred: 1468138.8279962966\n",
      "R_squared pred: 0.4500539199691558\n",
      "\n",
      "\n",
      "alpha: 0.01\n",
      "RMSE: 1379719.2749692947\n",
      "RMSE: 0.7033138395443354\n",
      "RMSE pred: 1468138.8259325682\n",
      "R_squared pred: 0.4500539215152485\n",
      "\n",
      "\n",
      "alpha: 0.1\n",
      "RMSE: 1379719.2749693054\n",
      "RMSE: 0.7033138395443297\n",
      "RMSE pred: 1468138.8062101377\n",
      "R_squared pred: 0.45005393629079016\n",
      "\n",
      "\n",
      "alpha: 1\n",
      "RMSE: 1379719.2749702947\n",
      "RMSE: 0.7033138395438145\n",
      "RMSE pred: 1468138.6175599855\n",
      "R_squared pred: 0.4500540776226609\n",
      "\n",
      "\n"
     ]
    }
   ],
   "source": [
    "for i in [0.0001, 0.001, 0.01, 0.1, 1]:\n",
    "    lass = Lasso(alpha=i)\n",
    "    lass.fit(X_train_scaled, y_train)\n",
    "\n",
    "    las_X_train_pred = lass.predict(X_train_scaled)\n",
    "    las_X_test_pred = lass.predict(X_test_scaled)\n",
    "    \n",
    "    print('alpha:', i)\n",
    "    \n",
    "    #Evaluate train set\n",
    "    print('RMSE:', np.sqrt(metrics.mean_squared_error(y_train, las_X_train_pred)))\n",
    "    print('RMSE:', np.sqrt(metrics.r2_score(y_train, las_X_train_pred)))\n",
    "    \n",
    "    #Evaluate test set\n",
    "    print('RMSE pred:', np.sqrt(metrics.mean_squared_error(y_test, las_X_test_pred)))\n",
    "    print('R_squared pred:', metrics.r2_score(y_test, las_X_test_pred))\n",
    "    \n",
    "\n",
    "    print('\\n')"
   ]
  },
  {
   "cell_type": "markdown",
   "metadata": {},
   "source": [
    "A Lasso Regression model does not differ much from the linear regression as well, irrespective of the alpha values that differ. It predicts well on the training data but not so well on the test data."
   ]
  },
  {
   "cell_type": "code",
   "execution_count": 70,
   "metadata": {},
   "outputs": [
    {
     "name": "stdout",
     "output_type": "stream",
     "text": [
      "RMSE: 1379719.2749692944\n",
      "RMSE: 0.7033138395443354\n",
      "RMSE pred: 1468138.828237746\n",
      "R_squared pred: 0.45005391978826825\n"
     ]
    }
   ],
   "source": [
    "rfr= RandomForestRegressor(n_estimators=100)\n",
    "rfr.fit(X_train_scaled, y_train)\n",
    "\n",
    "random_X_train_pred = linreg.predict(X_train_scaled)\n",
    "random_X_test_pred = linreg.predict(X_test_scaled)\n",
    "#Evaluate train set\n",
    "print('RMSE:', np.sqrt(metrics.mean_squared_error(y_train, random_X_train_pred)))\n",
    "print('RMSE:', np.sqrt(metrics.r2_score(y_train, random_X_train_pred)))\n",
    "#Evaluate test set\n",
    "print('RMSE pred:', np.sqrt(metrics.mean_squared_error(y_test, random_X_test_pred)))\n",
    "print('R_squared pred:', metrics.r2_score(y_test, random_X_test_pred))"
   ]
  },
  {
   "cell_type": "markdown",
   "metadata": {},
   "source": [
    "Not much of an improvement with a Randomforest Regressor"
   ]
  },
  {
   "cell_type": "code",
   "execution_count": 71,
   "metadata": {},
   "outputs": [],
   "source": [
    "#conda install -c anaconda py-xgboost"
   ]
  },
  {
   "cell_type": "code",
   "execution_count": 72,
   "metadata": {},
   "outputs": [],
   "source": [
    "#conda install -c anaconda py-xgboost"
   ]
  },
  {
   "cell_type": "code",
   "execution_count": null,
   "metadata": {},
   "outputs": [],
   "source": []
  },
  {
   "cell_type": "code",
   "execution_count": 73,
   "metadata": {},
   "outputs": [],
   "source": [
    "import xgboost"
   ]
  },
  {
   "cell_type": "code",
   "execution_count": 74,
   "metadata": {},
   "outputs": [],
   "source": [
    "model = xgboost.XGBRegressor(colsample_bytree=0.4,\n",
    "                 gamma=0,                 \n",
    "                 learning_rate=0.07,\n",
    "                 max_depth=3,\n",
    "                 min_child_weight=1.5,\n",
    "                 n_estimators=10000,                                                                    \n",
    "                 reg_alpha=0.75,\n",
    "                 reg_lambda=0.45,\n",
    "                 subsample=0.6,\n",
    "                 seed=42) "
   ]
  },
  {
   "cell_type": "code",
   "execution_count": 75,
   "metadata": {},
   "outputs": [
    {
     "name": "stderr",
     "output_type": "stream",
     "text": [
      "C:\\Users\\Marcus\\Anaconda3\\lib\\site-packages\\xgboost\\core.py:587: FutureWarning: Series.base is deprecated and will be removed in a future version\n",
      "  if getattr(data, 'base', None) is not None and \\\n"
     ]
    },
    {
     "name": "stdout",
     "output_type": "stream",
     "text": [
      "[12:28:19] WARNING: src/objective/regression_obj.cu:152: reg:linear is now deprecated in favor of reg:squarederror.\n"
     ]
    },
    {
     "data": {
      "text/plain": [
       "XGBRegressor(base_score=0.5, booster='gbtree', colsample_bylevel=1,\n",
       "             colsample_bynode=1, colsample_bytree=0.4, gamma=0,\n",
       "             importance_type='gain', learning_rate=0.07, max_delta_step=0,\n",
       "             max_depth=3, min_child_weight=1.5, missing=None,\n",
       "             n_estimators=10000, n_jobs=1, nthread=None, objective='reg:linear',\n",
       "             random_state=0, reg_alpha=0.75, reg_lambda=0.45,\n",
       "             scale_pos_weight=1, seed=42, silent=None, subsample=0.6,\n",
       "             verbosity=1)"
      ]
     },
     "execution_count": 75,
     "metadata": {},
     "output_type": "execute_result"
    }
   ],
   "source": [
    "model.fit(X_train_scaled, y_train)"
   ]
  },
  {
   "cell_type": "code",
   "execution_count": 76,
   "metadata": {},
   "outputs": [],
   "source": [
    "#pred=model.predict(X_train_scaled)\n",
    "xg_X_train_pred = model.predict(X_train_scaled)\n",
    "xg_X_test_pred = model.predict(X_test_scaled)"
   ]
  },
  {
   "cell_type": "code",
   "execution_count": 77,
   "metadata": {},
   "outputs": [
    {
     "name": "stdout",
     "output_type": "stream",
     "text": [
      "RMSE: 1209018.318574564\n",
      "RMSE: 0.7822788559353046\n",
      "RMSE pred: 1524294.8360620858\n",
      "R_squared pred: 0.4071786743465694\n"
     ]
    }
   ],
   "source": [
    "print('RMSE:', np.sqrt(metrics.mean_squared_error(y_train, xg_X_train_pred)))\n",
    "print('RMSE:', np.sqrt(metrics.r2_score(y_train, xg_X_train_pred)))\n",
    "#Evaluate test set\n",
    "print('RMSE pred:', np.sqrt(metrics.mean_squared_error(y_test, xg_X_test_pred)))\n",
    "print('R_squared pred:', metrics.r2_score(y_test, xg_X_test_pred))"
   ]
  },
  {
   "cell_type": "markdown",
   "metadata": {},
   "source": [
    "Lasso algorithm gives us the highest R^2."
   ]
  },
  {
   "cell_type": "code",
   "execution_count": 78,
   "metadata": {},
   "outputs": [],
   "source": [
    "sc.fit(x_test_num)\n",
    "tested_scaled = sc.transform(x_test_num)"
   ]
  },
  {
   "cell_type": "code",
   "execution_count": 79,
   "metadata": {},
   "outputs": [
    {
     "data": {
      "text/plain": [
       "(150,)"
      ]
     },
     "execution_count": 79,
     "metadata": {},
     "output_type": "execute_result"
    }
   ],
   "source": [
    "test_predictions = model.predict(tested_scaled)\n",
    "test_predictions.shape"
   ]
  },
  {
   "cell_type": "code",
   "execution_count": 134,
   "metadata": {},
   "outputs": [],
   "source": [
    "test_predictions = pd.DataFrame(test_predictions)\n",
    "ID_test = pd.DataFrame(ID_test).reset_index()"
   ]
  },
  {
   "cell_type": "code",
   "execution_count": 141,
   "metadata": {},
   "outputs": [],
   "source": [
    "ID_test = ID_test.drop(['index'],axis=1)"
   ]
  },
  {
   "cell_type": "code",
   "execution_count": 145,
   "metadata": {},
   "outputs": [],
   "source": [
    "ID_test.set_index('level_0',inplace=True)"
   ]
  },
  {
   "cell_type": "code",
   "execution_count": 152,
   "metadata": {},
   "outputs": [
    {
     "data": {
      "text/plain": [
       "ID                 4001\n",
       "Predicts    1.07191e+06\n",
       "Name: 0, dtype: object"
      ]
     },
     "execution_count": 152,
     "metadata": {},
     "output_type": "execute_result"
    }
   ],
   "source": [
    "submissions = pd.concat([ID_test,test_predictions],axis=1)\n",
    "submissions.columns=[['ID','Predicts']]"
   ]
  },
  {
   "cell_type": "code",
   "execution_count": 154,
   "metadata": {},
   "outputs": [
    {
     "data": {
      "text/plain": [
       "(150, 2)"
      ]
     },
     "execution_count": 154,
     "metadata": {},
     "output_type": "execute_result"
    }
   ],
   "source": [
    "submissions.shape"
   ]
  }
 ],
 "metadata": {
  "kernelspec": {
   "display_name": "Python 3",
   "language": "python",
   "name": "python3"
  },
  "language_info": {
   "codemirror_mode": {
    "name": "ipython",
    "version": 3
   },
   "file_extension": ".py",
   "mimetype": "text/x-python",
   "name": "python",
   "nbconvert_exporter": "python",
   "pygments_lexer": "ipython3",
   "version": "3.7.4"
  }
 },
 "nbformat": 4,
 "nbformat_minor": 2
}
